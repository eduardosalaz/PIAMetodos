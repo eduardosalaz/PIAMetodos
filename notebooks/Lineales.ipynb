{
 "cells": [
  {
   "cell_type": "markdown",
   "metadata": {},
   "source": [
    "# Ecuaciones Lineales\n",
    "\n",
    "## ¿Qué son?\n",
    "\n",
    "Una ecuación lineal es una ecuación en la que cada uno de los términos que la componen tiene una variable de primer grado, es decir, que el exponente de su potencia es igual a 1. Por ejemplo $3x + y - 4z = 23$\n",
    "\n",
    "Un sistema de ecuaciones lineales es un conjunto de ecuaciones lineales definidas y relacionadas entre sí. Por ejemplo $\\begin{cases} 3x + 5y + z = 3\\\\ 7x – 2y + 4z = 7\\\\ -6x + 3y + 2z = -9\\end{cases}$\n",
    "\n",
    "## ¿Cuál es su solución?\n",
    "\n",
    "Un sistema de ecuaciones lineales se considera solucionado cuando se encuentran los valores de las incógnitas que satisfagan todas y cada una de las ecuaciones individuales que componen al sistema. Por ejemplo, para $\\begin{cases} 3x + 5y + z = 3\\\\ 7x – 2y + 4z = 7\\\\ -6x + 3y + 2z = -9\\end{cases}$    \n",
    "La solución sería: $\\begin{array}{rcl} x & = & \\dfrac{295}{229}\\\\ y & = & \\dfrac{-15}{229}\\\\ z & = & \\dfrac{-123}{229} \\end{array}$\n",
    "\n",
    "Para poder solucionar a los sistemas de ecuaciones existen distintos procedimientos algebraicos, gráficos o matriciales. En este capítulo se abordarán 5 métodos matriciales:\n",
    "   * Montante\n",
    "   * Gauss Jordan\n",
    "   * Eliminación Gaussiana\n",
    "   * Gauss Seidel\n",
    "   * Jacobi\n",
    "  \n"
   ]
  },
  {
   "cell_type": "code",
   "execution_count": 1,
   "metadata": {},
   "outputs": [
    {
     "data": {
      "text/plain": [
       "{'divide': 'warn', 'over': 'warn', 'under': 'ignore', 'invalid': 'warn'}"
      ]
     },
     "execution_count": 1,
     "metadata": {},
     "output_type": "execute_result"
    }
   ],
   "source": [
    "%matplotlib widget\n",
    "import numpy as np\n",
    "import sympy as sp\n",
    "from IPython.display import Math,display\n",
    "sp.init_printing(use_latex='mathjax')\n",
    "import warnings\n",
    "import math\n",
    "import ipywidgets as widgets\n",
    "#warnings.filterwarnings('error')\n",
    "np.seterr(all='print')\n"
   ]
  },
  {
   "cell_type": "markdown",
   "metadata": {},
   "source": [
    "## Montante\n",
    "\n",
    "### ¿Cómo funciona?\n",
    "\n",
    "Dentro de la matriz tomaremos a un elemento y lo llamaremos pivote, este pivote tiene que ser distinto a cero y considerar el signo que le corresponde por su ubicación en la determinante de la matriz.\n",
    "\n",
    "La fórmula del Método Montante es:\n",
    "\n",
    "$N.E. = \\dfrac{(E.P.)(E.A.)-(E.C.F.P.)(E.C.C.P.)}{P.A.}$\n",
    "\n",
    "Donde:\n",
    "   * $N.E.$ es el nuevo elemento\n",
    "   * $E.P.$ es el elemento pivote\n",
    "   * $E.A.$ es el elemento actual\n",
    "   * $E.C.F.P.$ es el elemento correspondiente a la fila del pivote\n",
    "   * $E.C.C.P.$ es el elemento correspondiente a la columna del pivote\n",
    "   * $P.A.$ es el pivote anterior\n",
    "   \n",
    "## ¿Cómo lo puedo usar?\n",
    "\n",
    "Para usar este método, hay que ejecutar la **celda** de código siguiente e ingresar los coeficientes de las variables del sistema de ecuaciones y su solución. Un ejemplo sería: "
   ]
  },
  {
   "cell_type": "code",
   "execution_count": null,
   "metadata": {},
   "outputs": [],
   "source": []
  }
 ],
 "metadata": {
  "kernelspec": {
   "display_name": "Python 3",
   "language": "python",
   "name": "python3"
  },
  "language_info": {
   "codemirror_mode": {
    "name": "ipython",
    "version": 3
   },
   "file_extension": ".py",
   "mimetype": "text/x-python",
   "name": "python",
   "nbconvert_exporter": "python",
   "pygments_lexer": "ipython3",
   "version": "3.8.5"
  }
 },
 "nbformat": 4,
 "nbformat_minor": 4
}
