{
 "cells": [
  {
   "cell_type": "markdown",
   "metadata": {},
   "source": [
    "# Ecuaciones no lineales\n",
    "\n",
    "## ¿Qué son?\n",
    "\n",
    "Llamamos ecuacion no lineal a cualquier ecuación en la que alguna de sus incógnitas no es de primer grado, involucra polinomios de segundo grado, raíces, exponenciales, funciones trigonométricas, logaritmos, etcétera.\n",
    "\n",
    "## ¿Cuál es su solución?\n",
    "\n",
    "El propósito de los métodos descritos en esta libreta es encontrar las raíces de la ecuación ingresada a cada método, definimos a una raíz $ x $ de una función $ f(x) $, de tal manera que $ f(x) = 0$\n",
    "\n",
    "Exissten múltiples métodos como:\n",
    "   * Gráfico\n",
    "   * Bisectriz\n",
    "   * Punto Fijo o Sucesiones Sucesivas\n",
    "   * Newton Raphson\n",
    "   * Falsa Posición\n",
    "   * Secante\n",
    "\n",
    "\n"
   ]
  },
  {
   "cell_type": "code",
   "execution_count": 1,
   "metadata": {},
   "outputs": [
    {
     "data": {
      "text/plain": [
       "{'divide': 'warn', 'over': 'warn', 'under': 'ignore', 'invalid': 'warn'}"
      ]
     },
     "execution_count": 1,
     "metadata": {},
     "output_type": "execute_result"
    }
   ],
   "source": [
    "%matplotlib widget\n",
    "import numpy as np\n",
    "from numpy.linalg import norm\n",
    "import sympy as sp\n",
    "import matplotlib.pyplot as plt\n",
    "from scipy import optimize\n",
    "from IPython.display import Math,display\n",
    "sp.init_printing(use_latex='mathjax')\n",
    "import warnings\n",
    "import math\n",
    "import ipywidgets as widgets\n",
    "#warnings.filterwarnings('error')\n",
    "np.seterr(all='print')\n"
   ]
  },
  {
   "cell_type": "markdown",
   "metadata": {},
   "source": [
    "## Método Gráfico\n",
    "\n",
    "### ¿Cómo funciona?\n",
    "\n",
    "El método gráfico sirve para poder obtener una aproximación a $f(x)=0$ al graficar la función y tomar nota de cuando se cruza el eje de las abscisas $x$, observando para qué valores de $x$, $f(x)=0$, cambiando el signo.\n",
    "\n",
    "### ¿Cómo lo puedo usar?\n",
    "\n",
    "Para usar este método, hay que ejecutar la **celda** de código siguiente e ingresar una función.\n",
    "\n",
    "El formato de funciones aceptado en esta libreta es el siguiente:\n",
    "   * Para representar productos $3x$ hay que ingresar ```3*x```\n",
    "   * Para representar funciones trigonométricas $sen(x)$ hay que usar ```sin(x)```, las demás permanecen igual\n",
    "   * Para representar exponenciales $e^x$ hay que usar ```exp(x)``` salvo un caso en específico que se detalla adelante.\n",
    "   * Para representar potencias $x^2$ hay que usar ```x^2```\n",
    "   \n",
    "Un ejemplo de una ecuación ingresada sería $3x-sin(x)+e^x$ es: ```3*x -sin(x)+exp(x)```\n",
    "\n",
    "Posterior a ingresar la función, se tendrá que especificar el rango de valores a evaluar en $f(x)$, a continuación se obtendrá la gráfica de $f(x)$ y se marcarán en rojo los puntos donde se realiza el cambio de signo."
   ]
  },
  {
   "cell_type": "code",
   "execution_count": 2,
   "metadata": {},
   "outputs": [
    {
     "name": "stdin",
     "output_type": "stream",
     "text": [
      "Ingrese la función:  x^3-6.5*x+2\n"
     ]
    },
    {
     "data": {
      "text/latex": [
       "$\\displaystyle x^{3} - 6.5 x + 2$"
      ],
      "text/plain": [
       "<IPython.core.display.Math object>"
      ]
     },
     "metadata": {},
     "output_type": "display_data"
    },
    {
     "name": "stdin",
     "output_type": "stream",
     "text": [
      "Ingrese el límite inferior del rango a evaluar:  -5\n",
      "Ingrese el límite mayor del rango a evaluar:  5\n"
     ]
    },
    {
     "name": "stdout",
     "output_type": "stream",
     "text": [
      "Rango establecido de -5.0 a 5.0\n",
      "Para x en:  -3.0 , f(x) vale:  -5.5\n",
      "Para x en:  -2.0 , f(x) vale:  7.0  cambio de signo\n",
      "Para x en:  0.0 , f(x) vale:  2.0\n",
      "Para x en:  1.0 , f(x) vale:  -3.5  cambio de signo\n",
      "Para x en:  2.0 , f(x) vale:  -3.0\n",
      "Para x en:  3.0 , f(x) vale:  9.5  cambio de signo\n"
     ]
    },
    {
     "data": {
      "application/vnd.jupyter.widget-view+json": {
       "model_id": "28776995412a456a90ef915235c97d98",
       "version_major": 2,
       "version_minor": 0
      },
      "text/plain": [
       "Canvas(toolbar=Toolbar(toolitems=[('Home', 'Reset original view', 'home', 'home'), ('Back', 'Back to previous …"
      ]
     },
     "metadata": {},
     "output_type": "display_data"
    }
   ],
   "source": [
    "x, y, z = sp.symbols(\"x y z\")\n",
    "fun_graf = input('Ingrese la función: ')\n",
    "fun_sim_graf = sp.sympify(fun_graf)\n",
    "display(Math(sp.latex(fun_sim_graf)))\n",
    "check_graf = True\n",
    "\n",
    "#try:\n",
    "# obtener grado de la función si el rango especificado por el usuario no basta para encontrar todas las raíces\n",
    "#grado_graf = sp.degree(fun_sim_graf, gen=x)\n",
    "menor_graf = float(input(\"Ingrese el límite inferior del rango a evaluar: \"))\n",
    "mayor_graf = float(input(\"Ingrese el límite mayor del rango a evaluar: \"))\n",
    "rango_graf = np.arange(menor_graf, (mayor_graf+1))\n",
    "# crea una expresion de numpy para evaluar\n",
    "f_np_graf = sp.lambdify(x, fun_sim_graf, \"numpy\")\n",
    "resultado_np_graf = f_np_graf(rango_graf)  # evalua en el rango seleccionado\n",
    "signs = np.sign(resultado_np_graf)  # para obtener donde cruza 0\n",
    "signs[signs == 0] = -1\n",
    "cruces_cero_graf = np.where(np.diff(signs))[0]\n",
    "cambio = []  # valores del cambio de signo\n",
    "anterior_cambio = []  # valor anterior al cambio de signo\n",
    "\n",
    "for a in range(len(cruces_cero_graf)):\n",
    "    temporal = cruces_cero_graf[a]\n",
    "    anterior_cambio.append(resultado_np_graf[temporal])\n",
    "    cambio.append(resultado_np_graf[temporal+1])\n",
    "\n",
    "rango_nuevo = []\n",
    "print(\"Rango establecido de\", menor_graf, \"a\", mayor_graf)\n",
    "for a in range(0, len(cruces_cero_graf)):\n",
    "    print(\"Para x en: \", rango_graf[cruces_cero_graf[a]],\n",
    "          \", f(x) vale: \", anterior_cambio[a])\n",
    "    print(\"Para x en: \", rango_graf[cruces_cero_graf[a]+1],\n",
    "          \", f(x) vale: \", cambio[a], \" cambio de signo\")\n",
    "    rango_nuevo.append(rango_graf[cruces_cero_graf[a]+1])\n",
    "if(len(cruces_cero_graf) == 1):\n",
    "    print(\"Se recomienda aumentar el rango de evaluación\")\n",
    "\n",
    "positivos = []  # para bisectriz\n",
    "negativos = []  # para bisectriz\n",
    "\n",
    "for i in range(int(menor_graf), int(mayor_graf)):\n",
    "    if f_np_graf(i) > 0:\n",
    "        if f_np_graf(i) in cambio:\n",
    "            positivos.append(i)\n",
    "        elif f_np_graf(i) in anterior_cambio:\n",
    "            positivos.append(i)\n",
    "    else:\n",
    "        if f_np_graf(i) in cambio:\n",
    "            negativos.append(i)\n",
    "        elif f_np_graf(i) in anterior_cambio:\n",
    "            negativos.append(i)\n",
    "\n",
    "fig = plt.figure()\n",
    "ax = plt.gca()  # get current axis\n",
    "ax.plot(rango_graf, resultado_np_graf)\n",
    "ax.grid(True)\n",
    "ax.spines['left'].set_position('zero')\n",
    "ax.spines['right'].set_color('none')\n",
    "ax.spines['bottom'].set_position('zero')\n",
    "ax.spines['top'].set_color('none')\n",
    "plt.plot(rango_nuevo, cambio, 'ro', label='Plot pogi')\n",
    "plt.show()\n",
    "#except:\n",
    "#check_graf = False\n",
    "#print(\"La función ingresada no se puede resolver por este método\")"
   ]
  },
  {
   "cell_type": "markdown",
   "metadata": {},
   "source": [
    "## Bisectriz\n",
    "\n",
    "### ¿Cómo funciona?\n",
    "\n",
    "Una bisectriz es una recta que corta los puntos de un plano de  tal manera que el lugar de corte sea equidistante a los extremos del plano, dividiendo siempre a la mitad.\n",
    "\n",
    "Es un proceso iterativo que se repite hasta encontrar un cambio de signo, obteniendo una mejor aproximación a la raíz.\n",
    "\n",
    "Su fórmula es $x = \\dfrac{a+b}{2}$\n",
    "\n",
    "\n",
    "Donde $a$ es el valor donde se encuentra el signo positivo y $b$ el valor donde se encuentra el signo negativo.\n",
    "\n",
    "### ¿Cómo lo puedo usar?\n",
    "\n",
    "Para usar el método de la bisectriz es necesario haber encontrado los puntos donde se cruza x, basándose en el método gráfico. Es **imperante** ejecutar el método anterior para encontrar la tabla de valores"
   ]
  },
  {
   "cell_type": "code",
   "execution_count": 6,
   "metadata": {},
   "outputs": [
    {
     "name": "stdout",
     "output_type": "stream",
     "text": [
      "La raíz entre a: -2 y b: -3 es: -2.691306997641732\n",
      "La raíz entre a: 0 y b: 1 es: 0.312382003359744\n",
      "La raíz entre a: 3 y b: 2 es: 2.378924994280169\n"
     ]
    }
   ],
   "source": [
    "if check_graf:\n",
    "    for i in range(len(positivos)):\n",
    "        a = positivos[i]  # a siempre es donde se comporta positivo\n",
    "        b = negativos[i]  # b siempre es donde se comporta negativo\n",
    "        root = optimize.bisect(f_np_graf, a, b)\n",
    "        print(\"La raíz entre a:\", a, \"y b:\", b, \"es:\", root)\n",
    "else:\n",
    "    print(\"La función ingresada no se puede resolver por este método\")"
   ]
  },
  {
   "cell_type": "markdown",
   "metadata": {},
   "source": [
    "## Punto Fijo\n",
    "\n",
    "Hay que usar e^x para el exponencial"
   ]
  },
  {
   "cell_type": "code",
   "execution_count": 5,
   "metadata": {},
   "outputs": [
    {
     "name": "stdin",
     "output_type": "stream",
     "text": [
      "Ingrese la función:  x^3-6.5*x+2\n"
     ]
    },
    {
     "data": {
      "text/latex": [
       "$\\displaystyle x^{3} - 6.5 x + 2$"
      ],
      "text/plain": [
       "<IPython.core.display.Math object>"
      ]
     },
     "metadata": {},
     "output_type": "display_data"
    },
    {
     "name": "stdout",
     "output_type": "stream",
     "text": [
      "Despejes de la ecuación para x:\n",
      "\n"
     ]
    },
    {
     "data": {
      "text/latex": [
       "$\\displaystyle \\left[ 1.86625557840862 \\sqrt[3]{x - 0.307692307692308}, \\  - 0.933127789204312 \\sqrt[3]{x - 0.307692307692308} - 1.61622474085629 i \\sqrt[3]{x - 0.307692307692308}, \\  - 0.933127789204312 \\sqrt[3]{x - 0.307692307692308} + 1.61622474085629 i \\sqrt[3]{x - 0.307692307692308}\\right]$"
      ],
      "text/plain": [
       "<IPython.core.display.Math object>"
      ]
     },
     "metadata": {},
     "output_type": "display_data"
    },
    {
     "data": {
      "text/latex": [
       "$\\displaystyle \\left[ 0.153846153846154 x^{3} + 0.307692307692308\\right]$"
      ],
      "text/plain": [
       "<IPython.core.display.Math object>"
      ]
     },
     "metadata": {},
     "output_type": "display_data"
    },
    {
     "name": "stdin",
     "output_type": "stream",
     "text": [
      "¿Qué despeje desea usar? 1\n"
     ]
    },
    {
     "name": "stdout",
     "output_type": "stream",
     "text": [
      "Iteración: 1 Resultado: 0.6299605249474355 Error: 1.2599210499\n",
      "Iteración: 2 Resultado: 1.7726394210990044 Error: 1.1771348824\n",
      "Iteración: 3 Resultado: 2.1843529687446437 Error: 0.6009461840\n",
      "Iteración: 4 Resultado: 2.3118064380711543 Error: 0.2544024631\n",
      "Iteración: 5 Resultado: 2.3544166536591384 Error: 0.1010689262\n",
      "Iteración: 6 Resultado: 2.369722112555699 Error: 0.0392375898\n",
      "Iteración: 7 Resultado: 2.375428403136909 Error: 0.0151020693\n",
      "Iteración: 8 Resultado: 2.3775902579096173 Error: 0.0057935782\n",
      "Iteración: 9 Resultado: 2.378414566672449 Error: 0.0022198008\n",
      "Iteración: 10 Resultado: 2.378729661047669 Error: 0.0008501066\n",
      "Iteración: 11 Resultado: 2.3788502230576287 Error: 0.0003255017\n",
      "Iteración: 12 Resultado: 2.3788963698133507 Error: 0.0001246243\n",
      "Iteración: 13 Resultado: 2.37891403562178 Error: 0.0000477134\n",
      "Iteración: 14 Resultado: 2.3789207987787946 Error: 0.0000182673\n",
      "Iteración: 15 Resultado: 2.3789233880316547 Error: 0.0000069937\n",
      "El resultado del método es: (2.3789233880316547+4.0302858361435704e-06j)\n"
     ]
    }
   ],
   "source": [
    "def listToString(s):\n",
    "\n",
    "    # initialize an empty string\n",
    "    str1 = \"\"\n",
    "\n",
    "    # return string\n",
    "    return (str1.join(s))\n",
    "\n",
    "\n",
    "def punto_fijo(f, e=0.00001):\n",
    "    max_iter = 100\n",
    "    error = 1\n",
    "    x_start = 0\n",
    "    i = 0\n",
    "    xp = []\n",
    "    while (error > e and i < max_iter):\n",
    "        x_result = f(x_start)\n",
    "        resultado = x_result[0]\n",
    "        error = abs(resultado - x_start)\n",
    "        x_start = resultado\n",
    "        x_real = x_start.real\n",
    "        xp.append(x_start)\n",
    "        i += 1\n",
    "        if(np.isnan(resultado)):\n",
    "            print(\"Error interno del programa\")\n",
    "            print(\"Intenta con el otro despeje\")\n",
    "            break\n",
    "        else:\n",
    "            print(\"Iteración: \" + str(i) + \" Resultado: \" +\n",
    "              str(x_real) + \" Error: {:.10f}\".format(round(error, 10)))\n",
    "\n",
    "    print(\"El resultado del método es:\", resultado)\n",
    "\n",
    "\n",
    "w, x, y, z = sp.symbols(\"w x y z\")\n",
    "fun_pto = input('Ingrese la función: ')\n",
    "fun_sim_pto = sp.sympify(fun_pto)\n",
    "display(Math(sp.latex(fun_sim_pto)))\n",
    "\n",
    "#código para poder separar la ecuación en variables\n",
    "#tomamos el string del usuario, lo pasamos a una lista e iteramos buscando las x, sustituyendolas en la lista\n",
    "#pasandolas a string de nuevo y luego a funciones simbólicas\n",
    "#no es lo más eficiente pero es la implementaicón que se me ocurrió\n",
    "fun_sim_W = sp.sympify(fun_pto)\n",
    "fun_sim_Y = sp.sympify(fun_pto)\n",
    "fun_sim_Z = sp.sympify(fun_pto)\n",
    "contador = 0\n",
    "lista_fun_pto = list(fun_pto)\n",
    "listaCopia = list(fun_pto)\n",
    "listaCopia2 = list(fun_pto)\n",
    "listaCopia3 = list(fun_pto)\n",
    "for elemento in range(len(lista_fun_pto)):\n",
    "    if lista_fun_pto[elemento] == 'x':\n",
    "        if contador == 0:\n",
    "            listaCopia[elemento] = 'w'\n",
    "            exp = listToString(listaCopia)\n",
    "            fun_sim_W = sp.sympify(exp)\n",
    "            contador += 1\n",
    "        elif contador == 1:\n",
    "            listaCopia2[elemento] = 'y'\n",
    "            exp = listToString(listaCopia2)\n",
    "            fun_sim_Y = sp.sympify(exp)\n",
    "            contador += 2\n",
    "            break\n",
    "        elif contador == 2:\n",
    "            listaCopia3[elemento] = 'z'\n",
    "            exp = listToString(listaCopia3)\n",
    "            fun_sim_Z = sp.sympify(exp)\n",
    "        else:\n",
    "            print('Demasiadas x')\n",
    "\n",
    "\n",
    "ecuaciones = []\n",
    "if(fun_sim_W != fun_sim_pto):\n",
    "    despejadaW = sp.solve(fun_sim_W, w)\n",
    "    ecuaciones.append(despejadaW)\n",
    "if(fun_sim_Y != fun_sim_pto):\n",
    "    despejadaY = sp.solve(fun_sim_Y, y)\n",
    "    ecuaciones.append(despejadaY)\n",
    "if(fun_sim_Z != fun_sim_pto):\n",
    "    despejadaZ = sp.solve(fun_sim_Z, z)\n",
    "    ecuaciones.append(despejadaZ)\n",
    "\n",
    "print(\"Despejes de la ecuación para x:\\n\")\n",
    "for ecuacion in ecuaciones:\n",
    "    display(Math(sp.latex(ecuacion)))\n",
    "\n",
    "opcion = int(input(\"¿Qué despeje desea usar?\")) - 1\n",
    "despeje = ecuaciones[opcion]\n",
    "funcion_np_pto = sp.lambdify(x, despeje, 'numpy')\n",
    "punto_fijo(funcion_np_pto)\n"
   ]
  },
  {
   "cell_type": "markdown",
   "metadata": {},
   "source": [
    "## Newton Raphson\n",
    "\n",
    "Hay que usar exp(x) para el exponencial"
   ]
  },
  {
   "cell_type": "code",
   "execution_count": 3,
   "metadata": {},
   "outputs": [
    {
     "name": "stdin",
     "output_type": "stream",
     "text": [
      "Ingrese la función:  x^3-6.5*x+2\n"
     ]
    },
    {
     "data": {
      "text/latex": [
       "$\\displaystyle x^{3} - 6.5 x + 2$"
      ],
      "text/plain": [
       "<IPython.core.display.Math object>"
      ]
     },
     "metadata": {},
     "output_type": "display_data"
    },
    {
     "name": "stdout",
     "output_type": "stream",
     "text": [
      "Derivada de la función: \n"
     ]
    },
    {
     "data": {
      "text/latex": [
       "$\\displaystyle 3 x^{2} - 6.5$"
      ],
      "text/plain": [
       "<IPython.core.display.Math object>"
      ]
     },
     "metadata": {},
     "output_type": "display_data"
    },
    {
     "name": "stdin",
     "output_type": "stream",
     "text": [
      "Ingrese el valor inicial de x0:  0\n"
     ]
    },
    {
     "name": "stdout",
     "output_type": "stream",
     "text": [
      "Iteración: 1 Resultado: 0.3076923076923077 Error: 0.3076923076923077\n",
      "Iteración: 2 Resultado: 0.3123787207556841 Error: 0.004686413063376416\n",
      "Iteración: 3 Resultado: 0.3123820033597004 Error: 3.2826040162747816e-06\n",
      "Iteración: 4 Resultado: 0.3123820033613273 Error: 1.6269208202857044e-12\n",
      "El resultado es: 0.3123820033613273\n"
     ]
    }
   ],
   "source": [
    "def newton_raphson(func,func_prime,x_0,error=0.000001):\n",
    "    maxiter = 100\n",
    "    e = 1 \n",
    "    i = 0\n",
    "    while(i<maxiter and e>error):\n",
    "        res = func(x_0)#.evalf\n",
    "        res_prime = func_prime(x_0)#.evalf\n",
    "        #res_prime=float(res)\n",
    "        x = x_0 - (res/res_prime)\n",
    "        resultado = x\n",
    "        e_anterior = e\n",
    "        e = abs(resultado-x_0)\n",
    "        x_0 = resultado\n",
    "        i+=1\n",
    "        print(\"Iteración: \" + str(i) + \" Resultado: \" + str(resultado) + \" Error: \" + str(e))\n",
    "        if(e_anterior < e):\n",
    "            print(\"La función parece comportarse de manera errática, resultados no garantizados\")\n",
    "            #i=100\n",
    "    if(i==100):\n",
    "        print(\"Número máximo de iteraciones alcanzado\")\n",
    "    print(\"El resultado es: \" + str(resultado))\n",
    "\n",
    "\n",
    "w, x, y, z = sp.symbols(\"w x y z\")\n",
    "fun_nwt = input('Ingrese la función: ')\n",
    "fun_sim_nwt = sp.sympify(fun_nwt)\n",
    "#converter()\n",
    "display(Math(sp.latex(fun_sim_nwt)))\n",
    "fun_prime_sim_nwt = fun_sim_nwt.diff(x)\n",
    "print(\"Derivada de la función: \")\n",
    "display(Math(sp.latex(fun_prime_sim_nwt)))\n",
    "x_0 = float(input(\"Ingrese el valor inicial de x0: \"))\n",
    "fun_np_nwt = sp.lambdify(x,fun_sim_nwt,math)\n",
    "fun_prime_np_nwt = sp.lambdify(x,fun_prime_sim_nwt,math)\n",
    "newton_raphson(fun_np_nwt,fun_prime_np_nwt,x_0)\n",
    "\n"
   ]
  },
  {
   "cell_type": "markdown",
   "metadata": {},
   "source": [
    "## Falsa posición\n",
    "\n",
    "Hay que usar exp(x) para el exponencial"
   ]
  },
  {
   "cell_type": "code",
   "execution_count": null,
   "metadata": {},
   "outputs": [],
   "source": [
    "        \n",
    "def regula_falsi(f,a,b,e=0.00001):\n",
    "    if f(a) * f(b) >=0:\n",
    "        print(\"Los valores seleccionados de a y b no son válidos para el método\")\n",
    "    else:\n",
    "        max_iter = 100\n",
    "        error = 1\n",
    "        x_start = a - (b-a) * f(a) / (f(b)-f(a))\n",
    "        a = x_start\n",
    "        i = 0\n",
    "        xp = []\n",
    "        while (error > e and i < max_iter):\n",
    "            resultado = a - (b-a) * f(a) / (f(b)-f(a))\n",
    "            error = abs(resultado - a)\n",
    "            a = resultado\n",
    "            i += 1\n",
    "            print(\"Iteración: \" + str(i) + \" Resultado: \" +str(resultado) + \" Error: {:.10f}\".format(round(error, 10)))\n",
    "\n",
    "        print(\"El resultado del método es:\", resultado)\n",
    "\n",
    "\n",
    "w, x, y, z = sp.symbols(\"w x y z\")\n",
    "fun_fp = input('Ingrese la función: ')\n",
    "fun_sim_fp = sp.sympify(fun_fp)\n",
    "#converter()\n",
    "display(Math(sp.latex(fun_sim_fp)))\n",
    "fun_np_fp = sp.lambdify(x, fun_sim_fp, 'numpy')\n",
    "a = float(input(\"Ingrese el valor de a: \"))\n",
    "b = float(input(\"Ingrese el valor de b: \"))\n",
    "regula_falsi(fun_np_fp,a,b)\n",
    "\n",
    "\n",
    "  "
   ]
  },
  {
   "cell_type": "markdown",
   "metadata": {},
   "source": [
    "## Secante:\n",
    "\n",
    "Hay que usar exp(x) para el exponencial"
   ]
  },
  {
   "cell_type": "code",
   "execution_count": null,
   "metadata": {},
   "outputs": [],
   "source": [
    "def secante(f,x0,x1,e=0.00001):\n",
    "    if(f(x0)*f(x1) >=0):\n",
    "        print(\"Valores iniciales de 0 y 1 inválidos\")\n",
    "    else:\n",
    "        maxiter = 100\n",
    "        error = 1\n",
    "        xi = x0\n",
    "        xi_1 = x1\n",
    "        xi_2 = xi_1 - (f(xi_1)*(xi_1-xi)/f(xi_1)-f(xi))\n",
    "        xi=xi_1\n",
    "        xi_1=xi_2\n",
    "        i = 0\n",
    "        while(error > e and i < maxiter):\n",
    "            xi_2 = xi_1 - (f(xi_1)*(xi_1-xi)/f(xi_1)-f(xi))\n",
    "            error = abs(f(xi_1))\n",
    "            xi=xi_1\n",
    "            xi_1=xi_2\n",
    "            i+=1\n",
    "\n",
    "            print(\"Iteración: \" + str(i) + \" Resultado: \" +str(xi_1) + \" Error: {:.10f}\".format(round(error, 10)))\n",
    "        print(\"El resultado del método es:\", xi_1)\n",
    "        \n",
    "    \n",
    "\n",
    "w, x, y, z = sp.symbols(\"w x y z\")\n",
    "fun_sc = input('Ingrese la función: ')\n",
    "fun_sim_sc = sp.sympify(fun_sc)\n",
    "#converter()\n",
    "display(Math(sp.latex(fun_sim_sc)))\n",
    "fun_np_sc = sp.lambdify(x, fun_sim_sc, 'numpy')\n",
    "x0 = 0\n",
    "x1 = 1\n",
    "secante(fun_np_sc,x0,x1)"
   ]
  },
  {
   "cell_type": "code",
   "execution_count": null,
   "metadata": {},
   "outputs": [],
   "source": []
  }
 ],
 "metadata": {
  "kernelspec": {
   "display_name": "Python 3",
   "language": "python",
   "name": "python3"
  },
  "language_info": {
   "codemirror_mode": {
    "name": "ipython",
    "version": 3
   },
   "file_extension": ".py",
   "mimetype": "text/x-python",
   "name": "python",
   "nbconvert_exporter": "python",
   "pygments_lexer": "ipython3",
   "version": "3.8.5"
  }
 },
 "nbformat": 4,
 "nbformat_minor": 4
}
