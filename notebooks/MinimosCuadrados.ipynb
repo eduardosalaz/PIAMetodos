{
 "cells": [
  {
   "cell_type": "markdown",
   "metadata": {},
   "source": [
    "# Mínimos Cuadrados\n",
    "\n",
    "## ¿Qué son?\n",
    "\n",
    "Los mínimos cuadrados constituyen una herramienta del análisis numérico que nos permite, en base a un conjunto de datos pertenecientes a una variable dependiente y una independiente, encontrar una función algebraica que se \"ajuste\" mejor a las coordenadas, aproximando óptimamente a los puntos en el plano, obteniendo una curva que minimiza la dispersión entre si misma y los puntos.\n",
    "\n",
    "## ¿Cuál es su solución?\n",
    "\n",
    "Los mínimos cuadrados se pueden aplicar con distintas funciones para ajustar, consideramos solucionado un problema de mínimos cuadrados cuando obtenemos la función de ajuste y se grafican los datos originales contra los datos pasados por la función de ajuste. Existen distintas funciones que podemos tomar para hacer el ajuste como:\n",
    "   * Línea Recta\n",
    "   * Cuadrática\n",
    "   * Cúbica\n",
    "   * Lineal con Función\n",
    "   * Cuadrática con Función\n"
   ]
  },
  {
   "cell_type": "code",
   "execution_count": null,
   "metadata": {},
   "outputs": [],
   "source": [
    "%matplotlib widget\n",
    "import numpy as np\n",
    "import sympy as sp\n",
    "import matplotlib.pyplot as plt\n",
    "import sys\n",
    "from IPython.display import Math,display"
   ]
  },
  {
   "cell_type": "markdown",
   "metadata": {},
   "source": [
    "## Línea Recta:\n",
    "\n",
    "### ¿Cómo funciona?\n",
    "\n",
    "Los mínimos cuadrados por línea recta intentan ajustar una línea recta a varios puntos $(x_1,y_1),(x_2,y_2), ... (x_n, y_n)$ usando la ecuación $g(x) = a_0 + a_1x$\n",
    "\n",
    "$a_0, a_1$ representan coeficientes de la intersección de la pendiente de la línea con el eje $x$\n",
    "\n",
    "Para obtener los coeficientes y a $g(x)$ es necesario trabajar con una matriz de la siguiente manera:\n",
    "\n",
    "$$\\left( \\begin{matrix} a_0 & a_1x & g(x) \\\\ n & \\Sigma x & \\Sigma y \\\\ \\Sigma x & \\Sigma x^2 & \\Sigma xy \\end{matrix} \\right) $$\n",
    "\n",
    "Donde n es el número de valores a ajustar, y $\\Sigma$ representa la sumatoria de los valores.\n",
    "### ¿Cómo lo puedo usar?\n",
    "\n",
    "Para usar este método, hay que ejecutar la **celda** de código siguiente e ingresar primero el valor de $n$, posteriormente los valores de $x_1 ... x_n$ y los valores de $y_1 ... y_n$"
   ]
  },
  {
   "cell_type": "code",
   "execution_count": null,
   "metadata": {},
   "outputs": [],
   "source": [
    "n = int(input(\"Ingrese el número de valores de x: \"))\n",
    "arr_x_lineaR = []\n",
    "for i in range(n):\n",
    "    val_x = float(input(\"Ingrese el valor de \" + \"x\" + str(i+1) +\": \"))\n",
    "    arr_x_lineaR.append(val_x)\n",
    "arr_y_lineaR = []\n",
    "for i in range(n):\n",
    "    val_y = float(input(\"Ingrese el valor de \" + \"y\" + str(i+1) +\": \"))\n",
    "    arr_y_lineaR.append(val_y)\n",
    "print(\"\\nValores de x: \")\n",
    "print(arr_x_lineaR)\n",
    "print(\"\\nValores de y: \")\n",
    "print(arr_y_lineaR)\n",
    "\n",
    "sigma_x = np.sum(arr_x_lineaR)\n",
    "sigma_y = np.sum(arr_y_lineaR)\n",
    "x_cuadrada = np.power(arr_x_lineaR, 2)\n",
    "sigma_x_cuadrada = np.sum(x_cuadrada)\n",
    "xy_mult = np.multiply(arr_x_lineaR, arr_y_lineaR)\n",
    "sigma_xy = np.sum(xy_mult)\n",
    "\n",
    "matriz_impresa = np.array([[n, sigma_x, sigma_y], [sigma_x, sigma_x_cuadrada, sigma_xy]])\n",
    "print(\"\\nCoeficientes de la matriz: \")\n",
    "print(matriz_impresa)\n",
    "\n",
    "matriz_coef = matriz_impresa.copy()\n",
    "matriz_coef = np.delete(matriz_coef, 2, 1)\n",
    "matriz_gx = matriz_impresa.copy()\n",
    "matriz_gx = np.delete(matriz_gx, [0, 1], 1)\n",
    "\n",
    "soluciones = np.linalg.solve(matriz_coef, matriz_gx)\n",
    "\n",
    "a_0 = soluciones[0][0]\n",
    "a_1 = soluciones[1][0]\n",
    "\n",
    "print(\"El valor de a0 es: \" + str(a_0))\n",
    "print(\"El valor de a1 es: \" + str(a_1))\n",
    "\n",
    "nuevos = []\n",
    "for x_vieja in arr_x_lineaR:\n",
    "    elemento = a_0 + a_1*x_vieja\n",
    "    nuevos.append(elemento)\n",
    "\n",
    "for i in range(n):\n",
    "    val_x_nueva = nuevos[i]\n",
    "    print(\"El valor de x\" + str(i+1) + \" ajustada con g(x) es:\", val_x_nueva)\n",
    "\n",
    "plt.plot(arr_x_lineaR, arr_y_lineaR, 'bo', label= 'Valores originales') #puntos viejos\n",
    "plt.plot(nuevos, arr_y_lineaR, 'ro', label='Valores ajustados') #puntos nuevos\n",
    "plt.plot(nuevos, arr_y_lineaR, color='red',linewidth=1.2) #linea nueva\n",
    "plt.plot(arr_x_lineaR, arr_y_lineaR, color='blue',linewidth=1.2) #linea vieja\n",
    "plt.title('Mínimos Cuadrados con Línea recta', fontsize=18)\n",
    "plt.xlabel('x', fontsize=15)\n",
    "plt.ylabel('y', fontsize=15)\n",
    "plt.legend(markerfirst=False)\n",
    "plt.show()\n",
    "\n",
    "\n"
   ]
  },
  {
   "cell_type": "code",
   "execution_count": null,
   "metadata": {},
   "outputs": [],
   "source": []
  }
 ],
 "metadata": {
  "kernelspec": {
   "display_name": "Python 3",
   "language": "python",
   "name": "python3"
  },
  "language_info": {
   "codemirror_mode": {
    "name": "ipython",
    "version": 3
   },
   "file_extension": ".py",
   "mimetype": "text/x-python",
   "name": "python",
   "nbconvert_exporter": "python",
   "pygments_lexer": "ipython3",
   "version": "3.8.5"
  }
 },
 "nbformat": 4,
 "nbformat_minor": 4
}
