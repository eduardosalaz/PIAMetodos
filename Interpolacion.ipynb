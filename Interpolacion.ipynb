{
 "cells": [
  {
   "cell_type": "markdown",
   "metadata": {},
   "source": [
    "# Interpolación Numérica:\n",
    "Contenido va aquí"
   ]
  },
  {
   "cell_type": "code",
   "execution_count": null,
   "metadata": {},
   "outputs": [],
   "source": [
    "import numpy as np\n",
    "import matplotlib.pyplot as plt"
   ]
  },
  {
   "cell_type": "markdown",
   "metadata": {},
   "source": [
    "\n",
    "## Lineal:\n",
    "Contenido va aquí\n",
    "https://numpy.org/doc/stable/reference/generated/numpy.interp.html\n",
    "\n",
    "https://numpy.org/doc/stable/reference/generated/numpy.linspace.html"
   ]
  },
  {
   "cell_type": "code",
   "execution_count": null,
   "metadata": {},
   "outputs": [],
   "source": [
    "# y si usamos widgets?\n",
    "arreglo_x = []\n",
    "arreglo_x.append(float(input(\"Valor de a: \")))\n",
    "arreglo_x.append(float(input(\"Valor de b: \")))\n",
    "arreglo_x = np.array(arreglo_x)\n",
    "\n",
    "arreglo_y = []\n",
    "arreglo_y.append(float(input(\"Valor de f(a): \")))\n",
    "arreglo_y.append(float(input(\"Valor de (b): \")))\n",
    "arreglo_y = np.array(arreglo_y)\n",
    "\n",
    "x_interp = float(input(\"Valor de x a interpolar en g(x): \"))\n",
    "\n",
    "interp = np.interp(x_interp, arreglo_x, arreglo_y)\n",
    "print(\"El valor de la interpolación lineal de g(x) es: \", interp)\n"
   ]
  },
  {
   "cell_type": "code",
   "execution_count": null,
   "metadata": {},
   "outputs": [],
   "source": [
    "#plotear\n",
    "print(\"Generando gráfica de la interpolación\")\n",
    "x = np.linspace(arreglo_x[0], arreglo_x[1], 5, endpoint=True)\n",
    "y = np.linspace(arreglo_y[0], arreglo_y[1], 5, endpoint=True)\n",
    "plt.plot(x,y,'bo') #blue o\n",
    "plt.plot(x_interp, interp, 'ro') # red o\n",
    "plt.plot(x,y, color='green', linestyle='dashed',linewidth=1.2)\n",
    "plt.xlabel('x')\n",
    "plt.ylabel('g(x)')\n",
    "plt.show()"
   ]
  }
 ],
 "metadata": {
  "kernelspec": {
   "display_name": "Python 3",
   "language": "python",
   "name": "python3"
  },
  "language_info": {
   "codemirror_mode": {
    "name": "ipython",
    "version": 3
   },
   "file_extension": ".py",
   "mimetype": "text/x-python",
   "name": "python",
   "nbconvert_exporter": "python",
   "pygments_lexer": "ipython3",
   "version": "3.8.5"
  }
 },
 "nbformat": 4,
 "nbformat_minor": 4
}
